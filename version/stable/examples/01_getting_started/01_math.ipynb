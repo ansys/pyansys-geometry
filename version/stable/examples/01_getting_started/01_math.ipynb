{
 "cells": [
  {
   "cell_type": "markdown",
   "id": "f374c64b",
   "metadata": {},
   "source": [
    "# PyAnsys Geometry 101: Math\n",
    "\n",
    "The ``math`` module is the foundation of PyAnsys Geometry. This module is built on top of\n",
    "[NumPy](https://numpy.org/), one of the most renowned mathematical Python libraries.\n",
    "\n",
    "This example shows some of the main PyAnsys Geometry math objects and demonstrates\n",
    "why they are important prior to doing more exciting things in PyAnsys Geometry."
   ]
  },
  {
   "cell_type": "markdown",
   "id": "8186fb39",
   "metadata": {},
   "source": [
    "## Perform required imports\n",
    "\n",
    "Perform the required imports."
   ]
  },
  {
   "cell_type": "code",
   "execution_count": 1,
   "id": "0c2e2941",
   "metadata": {
    "execution": {
     "iopub.execute_input": "2025-10-21T10:54:29.671951Z",
     "iopub.status.busy": "2025-10-21T10:54:29.671774Z",
     "iopub.status.idle": "2025-10-21T10:54:31.388477Z",
     "shell.execute_reply": "2025-10-21T10:54:31.387641Z"
    }
   },
   "outputs": [],
   "source": [
    "import numpy as np\n",
    "\n",
    "from ansys.geometry.core.math import Plane, Point2D, Point3D, Vector2D, Vector3D, UnitVector3D"
   ]
  },
  {
   "cell_type": "markdown",
   "id": "774646ac",
   "metadata": {},
   "source": [
    "## Create points and vectors\n",
    "\n",
    "Everything starts with ``Point`` and ``Vector`` objects, which can each be defined in a 2D or 3D form.\n",
    "These objects inherit from NumPy's ``ndarray``, providing them with enhanced functionalities.\n",
    "When creating these objects, you must remember to pass in the arguments as a list (that is, with brackets ``[ ]``).\n",
    "\n",
    "Create 2D and 3D point and vectors.\n",
    "\n",
    "```\n",
    "Point3D([x, y, z])\n",
    "Point2D([x, y])\n",
    "\n",
    "Vector3D([x, y, z])\n",
    "Vector2D([x, y])\n",
    "```\n",
    "\n",
    "You can perform standard mathematical operations on points and vectors.\n",
    "\n",
    "Perform some standard operations on vectors."
   ]
  },
  {
   "cell_type": "code",
   "execution_count": 2,
   "id": "c4363168",
   "metadata": {
    "execution": {
     "iopub.execute_input": "2025-10-21T10:54:31.390398Z",
     "iopub.status.busy": "2025-10-21T10:54:31.390092Z",
     "iopub.status.idle": "2025-10-21T10:54:31.394782Z",
     "shell.execute_reply": "2025-10-21T10:54:31.393962Z"
    }
   },
   "outputs": [
    {
     "name": "stdout",
     "output_type": "stream",
     "text": [
      "Sum of vectors [1, 0, 0] + [0, 1, 0]:\n",
      "[1 1 0]\n",
      "\n",
      "Dot product of vectors [1, 0, 0] * [0, 1, 0]:\n",
      "0\n",
      "\n",
      "Cross product of vectors [1, 0, 0] % [0, 1, 0]:\n",
      "[0 0 1]\n"
     ]
    }
   ],
   "source": [
    "vec_1 = Vector3D([1,0,0]) # x-vector\n",
    "vec_2 = Vector3D([0,1,0]) # y-vector\n",
    "\n",
    "print(\"Sum of vectors [1, 0, 0] + [0, 1, 0]:\")\n",
    "print(vec_1 + vec_2) # sum\n",
    "\n",
    "print(\"\\nDot product of vectors [1, 0, 0] * [0, 1, 0]:\")\n",
    "print(vec_1 * vec_2) # dot\n",
    "\n",
    "print(\"\\nCross product of vectors [1, 0, 0] % [0, 1, 0]:\")\n",
    "print(vec_1 % vec_2) # cross"
   ]
  },
  {
   "cell_type": "markdown",
   "id": "808afc9a",
   "metadata": {},
   "source": [
    "Create a vector from two points."
   ]
  },
  {
   "cell_type": "code",
   "execution_count": 3,
   "id": "18f2f9ed",
   "metadata": {
    "execution": {
     "iopub.execute_input": "2025-10-21T10:54:31.396465Z",
     "iopub.status.busy": "2025-10-21T10:54:31.396292Z",
     "iopub.status.idle": "2025-10-21T10:54:31.403660Z",
     "shell.execute_reply": "2025-10-21T10:54:31.402798Z"
    }
   },
   "outputs": [
    {
     "data": {
      "text/plain": [
       "Vector3D([ -18.1, -599.7,  -42.4])"
      ]
     },
     "execution_count": 3,
     "metadata": {},
     "output_type": "execute_result"
    }
   ],
   "source": [
    "p1 = Point3D([12.4, 532.3, 89])\n",
    "p2 = Point3D([-5.7, -67.4, 46.6])\n",
    "\n",
    "vec_3 = Vector3D.from_points(p1, p2)\n",
    "vec_3"
   ]
  },
  {
   "cell_type": "markdown",
   "id": "1e9d9e70",
   "metadata": {},
   "source": [
    "Normalize a vector to create a unit vector, which is also\n",
    "known as a *direction*."
   ]
  },
  {
   "cell_type": "code",
   "execution_count": 4,
   "id": "eed9ee9d",
   "metadata": {
    "execution": {
     "iopub.execute_input": "2025-10-21T10:54:31.405246Z",
     "iopub.status.busy": "2025-10-21T10:54:31.405035Z",
     "iopub.status.idle": "2025-10-21T10:54:31.409071Z",
     "shell.execute_reply": "2025-10-21T10:54:31.408354Z"
    }
   },
   "outputs": [
    {
     "name": "stdout",
     "output_type": "stream",
     "text": [
      "Magnitude of vec_3:\n",
      "601.4694173438911\n",
      "\n",
      "Normalized vec_3:\n",
      "[-0.03009297 -0.99705818 -0.07049402]\n",
      "\n",
      "New magnitude:\n",
      "1.0\n"
     ]
    }
   ],
   "source": [
    "print(\"Magnitude of vec_3:\")\n",
    "print(vec_3.magnitude)\n",
    "\n",
    "print(\"\\nNormalized vec_3:\")\n",
    "print(vec_3.normalize())\n",
    "\n",
    "print(\"\\nNew magnitude:\")\n",
    "print(vec_3.normalize().magnitude)"
   ]
  },
  {
   "cell_type": "markdown",
   "id": "3d863b71",
   "metadata": {},
   "source": [
    "Use the ``UnitVector`` class to automatically normalize the input\n",
    "for the unit vector."
   ]
  },
  {
   "cell_type": "code",
   "execution_count": 5,
   "id": "340fb4c4",
   "metadata": {
    "execution": {
     "iopub.execute_input": "2025-10-21T10:54:31.410752Z",
     "iopub.status.busy": "2025-10-21T10:54:31.410577Z",
     "iopub.status.idle": "2025-10-21T10:54:31.414648Z",
     "shell.execute_reply": "2025-10-21T10:54:31.414054Z"
    }
   },
   "outputs": [
    {
     "data": {
      "text/plain": [
       "UnitVector3D([0.57735027, 0.57735027, 0.57735027])"
      ]
     },
     "execution_count": 5,
     "metadata": {},
     "output_type": "execute_result"
    }
   ],
   "source": [
    "uv = UnitVector3D([1,1,1])\n",
    "uv"
   ]
  },
  {
   "cell_type": "markdown",
   "id": "4d587d20",
   "metadata": {},
   "source": [
    "Perform a few more mathematical operations on vectors."
   ]
  },
  {
   "cell_type": "code",
   "execution_count": 6,
   "id": "6fd718bb",
   "metadata": {
    "execution": {
     "iopub.execute_input": "2025-10-21T10:54:31.416621Z",
     "iopub.status.busy": "2025-10-21T10:54:31.416417Z",
     "iopub.status.idle": "2025-10-21T10:54:31.421096Z",
     "shell.execute_reply": "2025-10-21T10:54:31.420408Z"
    }
   },
   "outputs": [
    {
     "name": "stdout",
     "output_type": "stream",
     "text": [
      "Vectors are perpendicular:\n",
      "True\n",
      "\n",
      "Vectors are parallel:\n",
      "False\n",
      "\n",
      "Vectors are opposite:\n",
      "False\n",
      "\n",
      "Angle between vectors:\n",
      "1.5707963267948966 radian\n",
      "1.5707963267948966 == pi/2\n"
     ]
    }
   ],
   "source": [
    "v1 = Vector3D([1, 0, 0])\n",
    "v2 = Vector3D([0, 1, 0])\n",
    "\n",
    "print(\"Vectors are perpendicular:\")\n",
    "print(v1.is_perpendicular_to(v2))\n",
    "\n",
    "print(\"\\nVectors are parallel:\")\n",
    "print(v1.is_parallel_to(v2))\n",
    "\n",
    "print(\"\\nVectors are opposite:\")\n",
    "print(v1.is_opposite(v2))\n",
    "\n",
    "print(\"\\nAngle between vectors:\")\n",
    "print(v1.get_angle_between(v2))\n",
    "print(f\"{np.pi / 2} == pi/2\")"
   ]
  },
  {
   "cell_type": "markdown",
   "id": "75e9990c",
   "metadata": {},
   "source": [
    "## Create planes\n",
    "\n",
    "Once you begin creating sketches and bodies, ``Plane`` objects become very important. A plane\n",
    "is defined by these items:\n",
    "\n",
    "- An origin, which consists of a 3D point\n",
    "- Two directions (``direction_x`` and ``direction_y``), which are both ``UnitVector3D``objects\n",
    "\n",
    "If no direction vectors are provided, the plane defaults to the XY plane.\n",
    "\n",
    "Create two planes."
   ]
  },
  {
   "cell_type": "code",
   "execution_count": 7,
   "id": "c84f9f12",
   "metadata": {
    "execution": {
     "iopub.execute_input": "2025-10-21T10:54:31.422853Z",
     "iopub.status.busy": "2025-10-21T10:54:31.422670Z",
     "iopub.status.idle": "2025-10-21T10:54:31.427351Z",
     "shell.execute_reply": "2025-10-21T10:54:31.426623Z"
    }
   },
   "outputs": [
    {
     "name": "stdout",
     "output_type": "stream",
     "text": [
      "(1, 2, 0) is in XY plane:\n",
      "True\n",
      "\n",
      "(0, 0, 5) is in XY plane:\n",
      "False\n"
     ]
    }
   ],
   "source": [
    "plane = Plane(Point3D([0,0,0])) # XY plane\n",
    "\n",
    "print(\"(1, 2, 0) is in XY plane:\")\n",
    "print(plane.is_point_contained(Point3D([1, 2, 0]))) # True\n",
    "\n",
    "print(\"\\n(0, 0, 5) is in XY plane:\")\n",
    "print(plane.is_point_contained(Point3D([0, 0, 5]))) # False"
   ]
  },
  {
   "cell_type": "markdown",
   "id": "f11af4bd",
   "metadata": {},
   "source": [
    "## Perform parametric evaluations\n",
    "\n",
    "PyAnsys Geometry implements parametric evaluations for some curves and surfaces.\n",
    "\n",
    "Evaluate a sphere."
   ]
  },
  {
   "cell_type": "code",
   "execution_count": 8,
   "id": "6619ac19",
   "metadata": {
    "execution": {
     "iopub.execute_input": "2025-10-21T10:54:31.429110Z",
     "iopub.status.busy": "2025-10-21T10:54:31.428938Z",
     "iopub.status.idle": "2025-10-21T10:54:31.434021Z",
     "shell.execute_reply": "2025-10-21T10:54:31.433228Z"
    }
   },
   "outputs": [
    {
     "name": "stdout",
     "output_type": "stream",
     "text": [
      "U Parameter:\n",
      "0.7853981633974483\n",
      "\n",
      "V Parameter:\n",
      "0.6154797086703873\n"
     ]
    }
   ],
   "source": [
    "from ansys.geometry.core.shapes import Sphere, SphereEvaluation\n",
    "from ansys.geometry.core.math import Point3D\n",
    "from ansys.geometry.core.misc import Distance\n",
    "\n",
    "sphere = Sphere(Point3D([0,0,0]), Distance(1)) # radius = 1\n",
    "\n",
    "eval = sphere.project_point(Point3D([1,1,1]))\n",
    "\n",
    "print(\"U Parameter:\")\n",
    "print(eval.parameter.u)\n",
    "\n",
    "print(\"\\nV Parameter:\")\n",
    "print(eval.parameter.v)"
   ]
  },
  {
   "cell_type": "code",
   "execution_count": 9,
   "id": "d5ba72f0",
   "metadata": {
    "execution": {
     "iopub.execute_input": "2025-10-21T10:54:31.435589Z",
     "iopub.status.busy": "2025-10-21T10:54:31.435421Z",
     "iopub.status.idle": "2025-10-21T10:54:31.440086Z",
     "shell.execute_reply": "2025-10-21T10:54:31.439395Z"
    }
   },
   "outputs": [
    {
     "name": "stdout",
     "output_type": "stream",
     "text": [
      "Point on the sphere:\n"
     ]
    },
    {
     "data": {
      "text/plain": [
       "Point3D([0.57735027, 0.57735027, 0.57735027])"
      ]
     },
     "execution_count": 9,
     "metadata": {},
     "output_type": "execute_result"
    }
   ],
   "source": [
    "print(\"Point on the sphere:\")\n",
    "eval.position"
   ]
  },
  {
   "cell_type": "code",
   "execution_count": 10,
   "id": "1e00a687",
   "metadata": {
    "execution": {
     "iopub.execute_input": "2025-10-21T10:54:31.441730Z",
     "iopub.status.busy": "2025-10-21T10:54:31.441552Z",
     "iopub.status.idle": "2025-10-21T10:54:31.445719Z",
     "shell.execute_reply": "2025-10-21T10:54:31.445053Z"
    }
   },
   "outputs": [
    {
     "name": "stdout",
     "output_type": "stream",
     "text": [
      "Normal to the surface of the sphere at the evaluation position:\n"
     ]
    },
    {
     "data": {
      "text/plain": [
       "UnitVector3D([0.57735027, 0.57735027, 0.57735027])"
      ]
     },
     "execution_count": 10,
     "metadata": {},
     "output_type": "execute_result"
    }
   ],
   "source": [
    "print(\"Normal to the surface of the sphere at the evaluation position:\")\n",
    "eval.normal"
   ]
  }
 ],
 "metadata": {
  "jupytext": {
   "default_lexer": "ipython3",
   "text_representation": {
    "extension": ".mystnb",
    "format_name": "myst",
    "format_version": 0.13,
    "jupytext_version": "1.14.1"
   }
  },
  "kernelspec": {
   "display_name": "Python 3 (ipykernel)",
   "language": "python",
   "name": "python3"
  },
  "language_info": {
   "codemirror_mode": {
    "name": "ipython",
    "version": 3
   },
   "file_extension": ".py",
   "mimetype": "text/x-python",
   "name": "python",
   "nbconvert_exporter": "python",
   "pygments_lexer": "ipython3",
   "version": "3.13.7"
  }
 },
 "nbformat": 4,
 "nbformat_minor": 5
}
