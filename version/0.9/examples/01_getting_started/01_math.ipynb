{
 "cells": [
  {
   "cell_type": "markdown",
   "id": "8fc5aad1",
   "metadata": {},
   "source": [
    "# PyAnsys Geometry 101: Math\n",
    "\n",
    "The ``math`` module is the foundation of PyAnsys Geometry. This module is built on top of\n",
    "[NumPy](https://numpy.org/), one of the most renowned mathematical Python libraries.\n",
    "\n",
    "This example shows some of the main PyAnsys Geometry math objects and demonstrates\n",
    "why they are important prior to doing more exciting things in PyAnsys Geometry."
   ]
  },
  {
   "cell_type": "markdown",
   "id": "b261c5c8",
   "metadata": {},
   "source": [
    "## Perform required imports\n",
    "\n",
    "Perform the required imports."
   ]
  },
  {
   "cell_type": "code",
   "execution_count": 1,
   "id": "2660367f",
   "metadata": {
    "execution": {
     "iopub.execute_input": "2025-02-28T07:22:27.680315Z",
     "iopub.status.busy": "2025-02-28T07:22:27.678289Z",
     "iopub.status.idle": "2025-02-28T07:22:32.554672Z",
     "shell.execute_reply": "2025-02-28T07:22:32.554672Z"
    }
   },
   "outputs": [],
   "source": [
    "import numpy as np\n",
    "\n",
    "from ansys.geometry.core.math import Plane, Point2D, Point3D, Vector2D, Vector3D, UnitVector3D"
   ]
  },
  {
   "cell_type": "markdown",
   "id": "0dabd231",
   "metadata": {},
   "source": [
    "## Create points and vectors\n",
    "\n",
    "Everything starts with ``Point`` and ``Vector`` objects, which can each be defined in a 2D or 3D form.\n",
    "These objects inherit from NumPy's ``ndarray``, providing them with enhanced functionalities.\n",
    "When creating these objects, you must remember to pass in the arguments as a list (that is, with brackets ``[ ]``).\n",
    "\n",
    "Create 2D and 3D point and vectors.\n",
    "\n",
    "```\n",
    "Point3D([x, y, z])\n",
    "Point2D([x, y])\n",
    "\n",
    "Vector3D([x, y, z])\n",
    "Vector2D([x, y])\n",
    "```\n",
    "\n",
    "You can perform standard mathematical operations on points and vectors.\n",
    "\n",
    "Perform some standard operations on vectors."
   ]
  },
  {
   "cell_type": "code",
   "execution_count": 2,
   "id": "708bf945",
   "metadata": {
    "execution": {
     "iopub.execute_input": "2025-02-28T07:22:32.558717Z",
     "iopub.status.busy": "2025-02-28T07:22:32.558717Z",
     "iopub.status.idle": "2025-02-28T07:22:32.565234Z",
     "shell.execute_reply": "2025-02-28T07:22:32.565234Z"
    }
   },
   "outputs": [
    {
     "name": "stdout",
     "output_type": "stream",
     "text": [
      "Sum of vectors [1, 0, 0] + [0, 1, 0]:\n",
      "[1 1 0]\n",
      "\n",
      "Dot product of vectors [1, 0, 0] * [0, 1, 0]:\n",
      "0\n",
      "\n",
      "Cross product of vectors [1, 0, 0] % [0, 1, 0]:\n",
      "[0 0 1]\n"
     ]
    }
   ],
   "source": [
    "vec_1 = Vector3D([1,0,0]) # x-vector\n",
    "vec_2 = Vector3D([0,1,0]) # y-vector\n",
    "\n",
    "print(\"Sum of vectors [1, 0, 0] + [0, 1, 0]:\")\n",
    "print(vec_1 + vec_2) # sum\n",
    "\n",
    "print(\"\\nDot product of vectors [1, 0, 0] * [0, 1, 0]:\")\n",
    "print(vec_1 * vec_2) # dot\n",
    "\n",
    "print(\"\\nCross product of vectors [1, 0, 0] % [0, 1, 0]:\")\n",
    "print(vec_1 % vec_2) # cross"
   ]
  },
  {
   "cell_type": "markdown",
   "id": "828c6584",
   "metadata": {},
   "source": [
    "Create a vector from two points."
   ]
  },
  {
   "cell_type": "code",
   "execution_count": 3,
   "id": "cd611001",
   "metadata": {
    "execution": {
     "iopub.execute_input": "2025-02-28T07:22:32.569269Z",
     "iopub.status.busy": "2025-02-28T07:22:32.567253Z",
     "iopub.status.idle": "2025-02-28T07:22:32.578610Z",
     "shell.execute_reply": "2025-02-28T07:22:32.578610Z"
    }
   },
   "outputs": [
    {
     "data": {
      "text/plain": [
       "Vector3D([ -18.1, -599.7,  -42.4])"
      ]
     },
     "execution_count": 3,
     "metadata": {},
     "output_type": "execute_result"
    }
   ],
   "source": [
    "p1 = Point3D([12.4, 532.3, 89])\n",
    "p2 = Point3D([-5.7, -67.4, 46.6])\n",
    "\n",
    "vec_3 = Vector3D.from_points(p1, p2)\n",
    "vec_3"
   ]
  },
  {
   "cell_type": "markdown",
   "id": "bbc3d5ee",
   "metadata": {},
   "source": [
    "Normalize a vector to create a unit vector, which is also\n",
    "known as a *direction*."
   ]
  },
  {
   "cell_type": "code",
   "execution_count": 4,
   "id": "47572bf8",
   "metadata": {
    "execution": {
     "iopub.execute_input": "2025-02-28T07:22:32.582409Z",
     "iopub.status.busy": "2025-02-28T07:22:32.580380Z",
     "iopub.status.idle": "2025-02-28T07:22:32.587607Z",
     "shell.execute_reply": "2025-02-28T07:22:32.587607Z"
    }
   },
   "outputs": [
    {
     "name": "stdout",
     "output_type": "stream",
     "text": [
      "Magnitude of vec_3:\n",
      "601.4694173438911\n",
      "\n",
      "Normalized vec_3:\n",
      "[-0.03009297 -0.99705818 -0.07049402]\n",
      "\n",
      "New magnitude:\n",
      "1.0\n"
     ]
    }
   ],
   "source": [
    "print(\"Magnitude of vec_3:\")\n",
    "print(vec_3.magnitude)\n",
    "\n",
    "print(\"\\nNormalized vec_3:\")\n",
    "print(vec_3.normalize())\n",
    "\n",
    "print(\"\\nNew magnitude:\")\n",
    "print(vec_3.normalize().magnitude)"
   ]
  },
  {
   "cell_type": "markdown",
   "id": "1d20c26b",
   "metadata": {},
   "source": [
    "Use the ``UnitVector`` class to automatically normalize the input\n",
    "for the unit vector."
   ]
  },
  {
   "cell_type": "code",
   "execution_count": 5,
   "id": "8cc4f663",
   "metadata": {
    "execution": {
     "iopub.execute_input": "2025-02-28T07:22:32.591644Z",
     "iopub.status.busy": "2025-02-28T07:22:32.589630Z",
     "iopub.status.idle": "2025-02-28T07:22:32.599005Z",
     "shell.execute_reply": "2025-02-28T07:22:32.599005Z"
    }
   },
   "outputs": [
    {
     "data": {
      "text/plain": [
       "UnitVector3D([0.57735027, 0.57735027, 0.57735027])"
      ]
     },
     "execution_count": 5,
     "metadata": {},
     "output_type": "execute_result"
    }
   ],
   "source": [
    "uv = UnitVector3D([1,1,1])\n",
    "uv"
   ]
  },
  {
   "cell_type": "markdown",
   "id": "ed077cf0",
   "metadata": {},
   "source": [
    "Perform a few more mathematical operations on vectors."
   ]
  },
  {
   "cell_type": "code",
   "execution_count": 6,
   "id": "9ae41343",
   "metadata": {
    "execution": {
     "iopub.execute_input": "2025-02-28T07:22:32.601035Z",
     "iopub.status.busy": "2025-02-28T07:22:32.601035Z",
     "iopub.status.idle": "2025-02-28T07:22:32.608659Z",
     "shell.execute_reply": "2025-02-28T07:22:32.608659Z"
    }
   },
   "outputs": [
    {
     "name": "stdout",
     "output_type": "stream",
     "text": [
      "Vectors are perpendicular:\n",
      "True\n",
      "\n",
      "Vectors are parallel:\n",
      "False\n",
      "\n",
      "Vectors are opposite:\n",
      "False\n",
      "\n",
      "Angle between vectors:\n",
      "1.5707963267948966 radian\n",
      "1.5707963267948966 == pi/2\n"
     ]
    }
   ],
   "source": [
    "v1 = Vector3D([1, 0, 0])\n",
    "v2 = Vector3D([0, 1, 0])\n",
    "\n",
    "print(\"Vectors are perpendicular:\")\n",
    "print(v1.is_perpendicular_to(v2))\n",
    "\n",
    "print(\"\\nVectors are parallel:\")\n",
    "print(v1.is_parallel_to(v2))\n",
    "\n",
    "print(\"\\nVectors are opposite:\")\n",
    "print(v1.is_opposite(v2))\n",
    "\n",
    "print(\"\\nAngle between vectors:\")\n",
    "print(v1.get_angle_between(v2))\n",
    "print(f\"{np.pi / 2} == pi/2\")"
   ]
  },
  {
   "cell_type": "markdown",
   "id": "b53782a3",
   "metadata": {},
   "source": [
    "## Create planes\n",
    "\n",
    "Once you begin creating sketches and bodies, ``Plane`` objects become very important. A plane\n",
    "is defined by these items:\n",
    "\n",
    "- An origin, which consists of a 3D point\n",
    "- Two directions (``direction_x`` and ``direction_y``), which are both ``UnitVector3D``objects\n",
    "\n",
    "If no direction vectors are provided, the plane defaults to the XY plane.\n",
    "\n",
    "Create two planes."
   ]
  },
  {
   "cell_type": "code",
   "execution_count": 7,
   "id": "7dc06dec",
   "metadata": {
    "execution": {
     "iopub.execute_input": "2025-02-28T07:22:32.611700Z",
     "iopub.status.busy": "2025-02-28T07:22:32.611700Z",
     "iopub.status.idle": "2025-02-28T07:22:32.617306Z",
     "shell.execute_reply": "2025-02-28T07:22:32.617306Z"
    }
   },
   "outputs": [
    {
     "name": "stdout",
     "output_type": "stream",
     "text": [
      "(1, 2, 0) is in XY plane:\n",
      "True\n",
      "\n",
      "(0, 0, 5) is in XY plane:\n",
      "False\n"
     ]
    }
   ],
   "source": [
    "plane = Plane(Point3D([0,0,0])) # XY plane\n",
    "\n",
    "print(\"(1, 2, 0) is in XY plane:\")\n",
    "print(plane.is_point_contained(Point3D([1, 2, 0]))) # True\n",
    "\n",
    "print(\"\\n(0, 0, 5) is in XY plane:\")\n",
    "print(plane.is_point_contained(Point3D([0, 0, 5]))) # False"
   ]
  },
  {
   "cell_type": "markdown",
   "id": "53b1c9c3",
   "metadata": {},
   "source": [
    "## Perform parametric evaluations\n",
    "\n",
    "PyAnsys Geometry implements parametric evaluations for some curves and surfaces.\n",
    "\n",
    "Evaluate a sphere."
   ]
  },
  {
   "cell_type": "code",
   "execution_count": 8,
   "id": "02d96b71",
   "metadata": {
    "execution": {
     "iopub.execute_input": "2025-02-28T07:22:32.619329Z",
     "iopub.status.busy": "2025-02-28T07:22:32.619329Z",
     "iopub.status.idle": "2025-02-28T07:22:32.626522Z",
     "shell.execute_reply": "2025-02-28T07:22:32.626522Z"
    }
   },
   "outputs": [
    {
     "name": "stdout",
     "output_type": "stream",
     "text": [
      "U Parameter:\n",
      "0.7853981633974483\n",
      "\n",
      "V Parameter:\n",
      "0.6154797086703873\n"
     ]
    }
   ],
   "source": [
    "from ansys.geometry.core.shapes import Sphere, SphereEvaluation\n",
    "from ansys.geometry.core.math import Point3D\n",
    "from ansys.geometry.core.misc import Distance\n",
    "\n",
    "sphere = Sphere(Point3D([0,0,0]), Distance(1)) # radius = 1\n",
    "\n",
    "eval = sphere.project_point(Point3D([1,1,1]))\n",
    "\n",
    "print(\"U Parameter:\")\n",
    "print(eval.parameter.u)\n",
    "\n",
    "print(\"\\nV Parameter:\")\n",
    "print(eval.parameter.v)"
   ]
  },
  {
   "cell_type": "code",
   "execution_count": 9,
   "id": "3c8a2478",
   "metadata": {
    "execution": {
     "iopub.execute_input": "2025-02-28T07:22:32.629564Z",
     "iopub.status.busy": "2025-02-28T07:22:32.629564Z",
     "iopub.status.idle": "2025-02-28T07:22:32.636687Z",
     "shell.execute_reply": "2025-02-28T07:22:32.636687Z"
    }
   },
   "outputs": [
    {
     "name": "stdout",
     "output_type": "stream",
     "text": [
      "Point on the sphere:\n"
     ]
    },
    {
     "data": {
      "text/plain": [
       "Point3D([0.57735027, 0.57735027, 0.57735027])"
      ]
     },
     "execution_count": 9,
     "metadata": {},
     "output_type": "execute_result"
    }
   ],
   "source": [
    "print(\"Point on the sphere:\")\n",
    "eval.position"
   ]
  },
  {
   "cell_type": "code",
   "execution_count": 10,
   "id": "5b3aa261",
   "metadata": {
    "execution": {
     "iopub.execute_input": "2025-02-28T07:22:32.638704Z",
     "iopub.status.busy": "2025-02-28T07:22:32.638704Z",
     "iopub.status.idle": "2025-02-28T07:22:32.645704Z",
     "shell.execute_reply": "2025-02-28T07:22:32.645704Z"
    }
   },
   "outputs": [
    {
     "name": "stdout",
     "output_type": "stream",
     "text": [
      "Normal to the surface of the sphere at the evaluation position:\n"
     ]
    },
    {
     "data": {
      "text/plain": [
       "UnitVector3D([0.57735027, 0.57735027, 0.57735027])"
      ]
     },
     "execution_count": 10,
     "metadata": {},
     "output_type": "execute_result"
    }
   ],
   "source": [
    "print(\"Normal to the surface of the sphere at the evaluation position:\")\n",
    "eval.normal"
   ]
  }
 ],
 "metadata": {
  "jupytext": {
   "text_representation": {
    "extension": ".mystnb",
    "format_name": "myst",
    "format_version": 0.13,
    "jupytext_version": "1.14.1"
   }
  },
  "kernelspec": {
   "display_name": "Python 3 (ipykernel)",
   "language": "python",
   "name": "python3"
  },
  "language_info": {
   "codemirror_mode": {
    "name": "ipython",
    "version": 3
   },
   "file_extension": ".py",
   "mimetype": "text/x-python",
   "name": "python",
   "nbconvert_exporter": "python",
   "pygments_lexer": "ipython3",
   "version": "3.12.8"
  }
 },
 "nbformat": 4,
 "nbformat_minor": 5
}
