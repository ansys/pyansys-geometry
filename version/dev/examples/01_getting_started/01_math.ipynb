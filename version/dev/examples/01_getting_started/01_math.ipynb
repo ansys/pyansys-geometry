{
 "cells": [
  {
   "cell_type": "markdown",
   "id": "90ae1884",
   "metadata": {},
   "source": [
    "# PyAnsys Geometry 101: Math\n",
    "\n",
    "The ``math`` module is the foundation of PyAnsys Geometry. This module is built on top of\n",
    "[NumPy](https://numpy.org/), one of the most renowned mathematical Python libraries.\n",
    "\n",
    "This example shows some of the main PyAnsys Geometry math objects and demonstrates\n",
    "why they are important prior to doing more exciting things in PyAnsys Geometry."
   ]
  },
  {
   "cell_type": "markdown",
   "id": "4155c473",
   "metadata": {},
   "source": [
    "## Perform required imports\n",
    "\n",
    "Perform the required imports."
   ]
  },
  {
   "cell_type": "code",
   "execution_count": 1,
   "id": "de86187e",
   "metadata": {
    "execution": {
     "iopub.execute_input": "2024-03-07T18:56:27.459076Z",
     "iopub.status.busy": "2024-03-07T18:56:27.459076Z",
     "iopub.status.idle": "2024-03-07T18:56:29.360949Z",
     "shell.execute_reply": "2024-03-07T18:56:29.360949Z"
    }
   },
   "outputs": [],
   "source": [
    "import numpy as np\n",
    "\n",
    "from ansys.geometry.core.math import Plane, Point2D, Point3D, Vector2D, Vector3D, UnitVector3D"
   ]
  },
  {
   "cell_type": "markdown",
   "id": "3c859efc",
   "metadata": {},
   "source": [
    "## Create points and vectors\n",
    "\n",
    "Everything starts with ``Point`` and ``Vector`` objects, which can each be defined in a 2D or 3D form.\n",
    "These objects inherit from NumPy's ``ndarray``, providing them with enhanced functionalities.\n",
    "When creating these objects, you must remember to pass in the arguments as a list (that is, with brackets ``[ ]``).\n",
    "\n",
    "Create 2D and 3D point and vectors.\n",
    "\n",
    "```\n",
    "Point3D([x, y, z])\n",
    "Point2D([x, y])\n",
    "\n",
    "Vector3D([x, y, z])\n",
    "Vector2D([x, y])\n",
    "```\n",
    "\n",
    "You can perform standard mathematical operations on points and vectors.\n",
    "\n",
    "Perform some standard operations on vectors."
   ]
  },
  {
   "cell_type": "code",
   "execution_count": 2,
   "id": "2ab6ca71",
   "metadata": {
    "execution": {
     "iopub.execute_input": "2024-03-07T18:56:29.360949Z",
     "iopub.status.busy": "2024-03-07T18:56:29.360949Z",
     "iopub.status.idle": "2024-03-07T18:56:29.376508Z",
     "shell.execute_reply": "2024-03-07T18:56:29.376508Z"
    }
   },
   "outputs": [
    {
     "name": "stdout",
     "output_type": "stream",
     "text": [
      "Sum of vectors [1, 0, 0] + [0, 1, 0]:\n",
      "[1 1 0]\n",
      "\n",
      "Dot product of vectors [1, 0, 0] * [0, 1, 0]:\n",
      "0\n",
      "\n",
      "Cross product of vectors [1, 0, 0] % [0, 1, 0]:\n",
      "[0 0 1]\n"
     ]
    }
   ],
   "source": [
    "vec_1 = Vector3D([1,0,0]) # x-vector\n",
    "vec_2 = Vector3D([0,1,0]) # y-vector\n",
    "\n",
    "print(\"Sum of vectors [1, 0, 0] + [0, 1, 0]:\")\n",
    "print(vec_1 + vec_2) # sum\n",
    "\n",
    "print(\"\\nDot product of vectors [1, 0, 0] * [0, 1, 0]:\")\n",
    "print(vec_1 * vec_2) # dot\n",
    "\n",
    "print(\"\\nCross product of vectors [1, 0, 0] % [0, 1, 0]:\")\n",
    "print(vec_1 % vec_2) # cross"
   ]
  },
  {
   "cell_type": "markdown",
   "id": "08385f85",
   "metadata": {},
   "source": [
    "Create a vector from two points."
   ]
  },
  {
   "cell_type": "code",
   "execution_count": 3,
   "id": "d6729a69",
   "metadata": {
    "execution": {
     "iopub.execute_input": "2024-03-07T18:56:29.376508Z",
     "iopub.status.busy": "2024-03-07T18:56:29.376508Z",
     "iopub.status.idle": "2024-03-07T18:56:29.418133Z",
     "shell.execute_reply": "2024-03-07T18:56:29.418133Z"
    }
   },
   "outputs": [
    {
     "data": {
      "text/plain": [
       "Vector3D([ -18.1, -599.7,  -42.4])"
      ]
     },
     "execution_count": 3,
     "metadata": {},
     "output_type": "execute_result"
    }
   ],
   "source": [
    "p1 = Point3D([12.4, 532.3, 89])\n",
    "p2 = Point3D([-5.7, -67.4, 46.6])\n",
    "\n",
    "vec_3 = Vector3D.from_points(p1, p2)\n",
    "vec_3"
   ]
  },
  {
   "cell_type": "markdown",
   "id": "9592628a",
   "metadata": {},
   "source": [
    "Normalize a vector to create a unit vector, which is also\n",
    "known as a *direction*."
   ]
  },
  {
   "cell_type": "code",
   "execution_count": 4,
   "id": "6a67f821",
   "metadata": {
    "execution": {
     "iopub.execute_input": "2024-03-07T18:56:29.418133Z",
     "iopub.status.busy": "2024-03-07T18:56:29.418133Z",
     "iopub.status.idle": "2024-03-07T18:56:29.433687Z",
     "shell.execute_reply": "2024-03-07T18:56:29.433687Z"
    }
   },
   "outputs": [
    {
     "name": "stdout",
     "output_type": "stream",
     "text": [
      "Magnitude of vec_3:\n",
      "601.4694173438911\n",
      "\n",
      "Normalized vec_3:\n",
      "[-0.03009297 -0.99705818 -0.07049402]\n",
      "\n",
      "New magnitude:\n",
      "1.0\n"
     ]
    }
   ],
   "source": [
    "print(\"Magnitude of vec_3:\")\n",
    "print(vec_3.magnitude)\n",
    "\n",
    "print(\"\\nNormalized vec_3:\")\n",
    "print(vec_3.normalize())\n",
    "\n",
    "print(\"\\nNew magnitude:\")\n",
    "print(vec_3.normalize().magnitude)"
   ]
  },
  {
   "cell_type": "markdown",
   "id": "e29bef8a",
   "metadata": {},
   "source": [
    "Use the ``UnitVector`` class to automatically normalize the input\n",
    "for the unit vector."
   ]
  },
  {
   "cell_type": "code",
   "execution_count": 5,
   "id": "343cc742",
   "metadata": {
    "execution": {
     "iopub.execute_input": "2024-03-07T18:56:29.433687Z",
     "iopub.status.busy": "2024-03-07T18:56:29.433687Z",
     "iopub.status.idle": "2024-03-07T18:56:29.449528Z",
     "shell.execute_reply": "2024-03-07T18:56:29.449374Z"
    }
   },
   "outputs": [
    {
     "data": {
      "text/plain": [
       "UnitVector3D([0.57735027, 0.57735027, 0.57735027])"
      ]
     },
     "execution_count": 5,
     "metadata": {},
     "output_type": "execute_result"
    }
   ],
   "source": [
    "uv = UnitVector3D([1,1,1])\n",
    "uv"
   ]
  },
  {
   "cell_type": "markdown",
   "id": "40a23488",
   "metadata": {},
   "source": [
    "Perform a few more mathematical operations on vectors."
   ]
  },
  {
   "cell_type": "code",
   "execution_count": 6,
   "id": "73a38e8d",
   "metadata": {
    "execution": {
     "iopub.execute_input": "2024-03-07T18:56:29.449528Z",
     "iopub.status.busy": "2024-03-07T18:56:29.449528Z",
     "iopub.status.idle": "2024-03-07T18:56:29.475306Z",
     "shell.execute_reply": "2024-03-07T18:56:29.475306Z"
    }
   },
   "outputs": [
    {
     "name": "stdout",
     "output_type": "stream",
     "text": [
      "Vectors are perpendicular:\n",
      "True\n",
      "\n",
      "Vectors are parallel:\n",
      "False\n",
      "\n",
      "Vectors are opposite:\n",
      "False\n",
      "\n",
      "Angle between vectors:\n",
      "1.5707963267948966 radian\n",
      "1.5707963267948966 == pi/2\n"
     ]
    }
   ],
   "source": [
    "v1 = Vector3D([1, 0, 0])\n",
    "v2 = Vector3D([0, 1, 0])\n",
    "\n",
    "print(\"Vectors are perpendicular:\")\n",
    "print(v1.is_perpendicular_to(v2))\n",
    "\n",
    "print(\"\\nVectors are parallel:\")\n",
    "print(v1.is_parallel_to(v2))\n",
    "\n",
    "print(\"\\nVectors are opposite:\")\n",
    "print(v1.is_opposite(v2))\n",
    "\n",
    "print(\"\\nAngle between vectors:\")\n",
    "print(v1.get_angle_between(v2))\n",
    "print(f\"{np.pi / 2} == pi/2\")"
   ]
  },
  {
   "cell_type": "markdown",
   "id": "0ac9035b",
   "metadata": {},
   "source": [
    "## Create planes\n",
    "\n",
    "Once you begin creating sketches and bodies, ``Plane`` objects become very important. A plane\n",
    "is defined by these items:\n",
    "\n",
    "- An origin, which consists of a 3D point\n",
    "- Two directions (``direction_x`` and ``direction_y``), which are both ``UnitVector3D``objects\n",
    "\n",
    "If no direction vectors are provided, the plane defaults to the XY plane.\n",
    "\n",
    "Create two planes."
   ]
  },
  {
   "cell_type": "code",
   "execution_count": 7,
   "id": "a953be9c",
   "metadata": {
    "execution": {
     "iopub.execute_input": "2024-03-07T18:56:29.475306Z",
     "iopub.status.busy": "2024-03-07T18:56:29.475306Z",
     "iopub.status.idle": "2024-03-07T18:56:29.490924Z",
     "shell.execute_reply": "2024-03-07T18:56:29.490924Z"
    }
   },
   "outputs": [
    {
     "name": "stdout",
     "output_type": "stream",
     "text": [
      "(1, 2, 0) is in XY plane:\n",
      "True\n",
      "\n",
      "(0, 0, 5) is in XY plane:\n",
      "False\n"
     ]
    }
   ],
   "source": [
    "plane = Plane(Point3D([0,0,0])) # XY plane\n",
    "\n",
    "print(\"(1, 2, 0) is in XY plane:\")\n",
    "print(plane.is_point_contained(Point3D([1, 2, 0]))) # True\n",
    "\n",
    "print(\"\\n(0, 0, 5) is in XY plane:\")\n",
    "print(plane.is_point_contained(Point3D([0, 0, 5]))) # False"
   ]
  },
  {
   "cell_type": "markdown",
   "id": "410d08d4",
   "metadata": {},
   "source": [
    "## Perform parametric evaluations\n",
    "\n",
    "PyAnsys Geometry implements parametric evaluations for some curves and surfaces.\n",
    "\n",
    "Evaluate a sphere."
   ]
  },
  {
   "cell_type": "code",
   "execution_count": 8,
   "id": "cb8f7323",
   "metadata": {
    "execution": {
     "iopub.execute_input": "2024-03-07T18:56:29.490924Z",
     "iopub.status.busy": "2024-03-07T18:56:29.490924Z",
     "iopub.status.idle": "2024-03-07T18:56:29.506553Z",
     "shell.execute_reply": "2024-03-07T18:56:29.506553Z"
    }
   },
   "outputs": [
    {
     "name": "stdout",
     "output_type": "stream",
     "text": [
      "U Parameter:\n",
      "0.7853981633974483\n",
      "\n",
      "V Parameter:\n",
      "0.6154797086703873\n"
     ]
    }
   ],
   "source": [
    "from ansys.geometry.core.primitives.sphere import Sphere, SphereEvaluation\n",
    "from ansys.geometry.core.math import Point3D\n",
    "from ansys.geometry.core.misc import Distance\n",
    "\n",
    "sphere = Sphere(Point3D([0,0,0]), Distance(1)) # radius = 1\n",
    "\n",
    "eval = sphere.project_point(Point3D([1,1,1]))\n",
    "\n",
    "print(\"U Parameter:\")\n",
    "print(eval.parameter.u)\n",
    "\n",
    "print(\"\\nV Parameter:\")\n",
    "print(eval.parameter.v)"
   ]
  },
  {
   "cell_type": "code",
   "execution_count": 9,
   "id": "63c464b7",
   "metadata": {
    "execution": {
     "iopub.execute_input": "2024-03-07T18:56:29.506553Z",
     "iopub.status.busy": "2024-03-07T18:56:29.506553Z",
     "iopub.status.idle": "2024-03-07T18:56:29.522263Z",
     "shell.execute_reply": "2024-03-07T18:56:29.522263Z"
    }
   },
   "outputs": [
    {
     "name": "stdout",
     "output_type": "stream",
     "text": [
      "Point on the sphere:\n"
     ]
    },
    {
     "data": {
      "text/plain": [
       "Point3D([0.57735027, 0.57735027, 0.57735027])"
      ]
     },
     "execution_count": 9,
     "metadata": {},
     "output_type": "execute_result"
    }
   ],
   "source": [
    "print(\"Point on the sphere:\")\n",
    "eval.position"
   ]
  },
  {
   "cell_type": "code",
   "execution_count": 10,
   "id": "a4beadd0",
   "metadata": {
    "execution": {
     "iopub.execute_input": "2024-03-07T18:56:29.522263Z",
     "iopub.status.busy": "2024-03-07T18:56:29.522263Z",
     "iopub.status.idle": "2024-03-07T18:56:29.538030Z",
     "shell.execute_reply": "2024-03-07T18:56:29.538030Z"
    }
   },
   "outputs": [
    {
     "name": "stdout",
     "output_type": "stream",
     "text": [
      "Normal to the surface of the sphere at the evaluation position:\n"
     ]
    },
    {
     "data": {
      "text/plain": [
       "UnitVector3D([0.57735027, 0.57735027, 0.57735027])"
      ]
     },
     "execution_count": 10,
     "metadata": {},
     "output_type": "execute_result"
    }
   ],
   "source": [
    "print(\"Normal to the surface of the sphere at the evaluation position:\")\n",
    "eval.normal"
   ]
  }
 ],
 "metadata": {
  "jupytext": {
   "text_representation": {
    "extension": ".mystnb",
    "format_name": "myst",
    "format_version": 0.13,
    "jupytext_version": "1.14.1"
   }
  },
  "kernelspec": {
   "display_name": "Python 3 (ipykernel)",
   "language": "python",
   "name": "python3"
  },
  "language_info": {
   "codemirror_mode": {
    "name": "ipython",
    "version": 3
   },
   "file_extension": ".py",
   "mimetype": "text/x-python",
   "name": "python",
   "nbconvert_exporter": "python",
   "pygments_lexer": "ipython3",
   "version": "3.9.12"
  }
 },
 "nbformat": 4,
 "nbformat_minor": 5
}
