{
 "cells": [
  {
   "cell_type": "markdown",
   "id": "44c6107d",
   "metadata": {},
   "source": [
    "# PyAnsys Geometry 101: Units\n",
    "\n",
    "To handle units inside the source code, PyAnsys Geometry uses [Pint](https://pint.readthedocs.io/en/stable/),\n",
    "a third-party open source software that other PyAnsys libraries also use.\n",
    "\n",
    "The following code examples show how to operate with units inside\n",
    "the PyAnsys Geometry codebase and create objects with different units."
   ]
  },
  {
   "cell_type": "markdown",
   "id": "005d7dd3",
   "metadata": {},
   "source": [
    "## Import units handler\n",
    "\n",
    "The following line of code imports the units handler: ``pint.util.UnitRegistry``.\n",
    "For more information on the ``UnitRegistry`` class in the ``pint`` API, see\n",
    "[Most important classes](https://pint.readthedocs.io/en/stable/api/base.html#most-important-classes)\n",
    "in the Pint documentation."
   ]
  },
  {
   "cell_type": "code",
   "execution_count": 1,
   "id": "9a8260a3",
   "metadata": {
    "execution": {
     "iopub.execute_input": "2025-06-05T13:15:34.730371Z",
     "iopub.status.busy": "2025-06-05T13:15:34.730194Z",
     "iopub.status.idle": "2025-06-05T13:15:36.365014Z",
     "shell.execute_reply": "2025-06-05T13:15:36.364519Z"
    }
   },
   "outputs": [],
   "source": [
    "from ansys.geometry.core.misc import UNITS\n"
   ]
  },
  {
   "cell_type": "markdown",
   "id": "309d31fd",
   "metadata": {},
   "source": [
    "## Create and work with ``Quantity`` objects\n",
    "\n",
    "With the ``UnitRegistry`` object called ``UNITS``, you can create ``Quantity``\n",
    "objects. A ``Quantity`` object is simply a container class with two core elements:\n",
    "\n",
    "- A number\n",
    "- A unit\n",
    "\n",
    "``Quantity`` objects have convenience methods, including those for transforming to\n",
    "different units and comparing magnitudes, values, and units. For more information on the\n",
    "``Quantity`` class in the ``pint`` API, see\n",
    "[Most important classes](https://pint.readthedocs.io/en/stable/api/base.html#most-important-classes)\n",
    "in the Pint documentation. You can also step through this\n",
    "[Pint tutorial](https://pint.readthedocs.io/en/stable/getting/tutorial.html)."
   ]
  },
  {
   "cell_type": "code",
   "execution_count": 2,
   "id": "711f404e",
   "metadata": {
    "execution": {
     "iopub.execute_input": "2025-06-05T13:15:36.367273Z",
     "iopub.status.busy": "2025-06-05T13:15:36.366812Z",
     "iopub.status.idle": "2025-06-05T13:15:36.372155Z",
     "shell.execute_reply": "2025-06-05T13:15:36.371679Z"
    }
   },
   "outputs": [
    {
     "name": "stdout",
     "output_type": "stream",
     "text": [
      "Object a is a pint.Quantity: 10 millimeter\n",
      "Request its magnitude in different ways (accessor methods):\n",
      "Magnitude: 10.\n",
      "Also magnitude: 10.\n",
      "Request its units in different ways (accessor methods):\n",
      "Units: millimeter.\n",
      "Also units: millimeter.\n",
      "Compare quantities built differently: True\n",
      "Compare quantities with different units: True\n"
     ]
    }
   ],
   "source": [
    "from pint import Quantity\n",
    "\n",
    "a = Quantity(10, UNITS.mm)\n",
    "\n",
    "print(f\"Object a is a pint.Quantity: {a}\")\n",
    "\n",
    "print(\"Request its magnitude in different ways (accessor methods):\")\n",
    "print(f\"Magnitude: {a.m}.\")\n",
    "print(f\"Also magnitude: {a.magnitude}.\")\n",
    "\n",
    "print(\"Request its units in different ways (accessor methods):\")\n",
    "print(f\"Units: {a.u}.\")\n",
    "print(f\"Also units: {a.units}.\")\n",
    "\n",
    "# Quantities can be compared between different units\n",
    "# You can also build Quantity objects as follows:\n",
    "a2 = 10 * UNITS.mm\n",
    "print(f\"Compare quantities built differently: {a == a2}\")\n",
    "\n",
    "# Quantities can be compared between different units\n",
    "a2_diff_units = 1 * UNITS.cm\n",
    "print(f\"Compare quantities with different units: {a == a2_diff_units}\")"
   ]
  },
  {
   "cell_type": "markdown",
   "id": "e59dd21b",
   "metadata": {},
   "source": [
    "PyAnsys Geometry objects work by returning ``Quantity`` objects whenever the\n",
    "property requested has a physical meaning.\n",
    "\n",
    "Return ``Quantity`` objects for ``Point3D`` objects."
   ]
  },
  {
   "cell_type": "code",
   "execution_count": 3,
   "id": "dfd1cdc5",
   "metadata": {
    "execution": {
     "iopub.execute_input": "2025-06-05T13:15:36.373983Z",
     "iopub.status.busy": "2025-06-05T13:15:36.373541Z",
     "iopub.status.idle": "2025-06-05T13:15:36.380737Z",
     "shell.execute_reply": "2025-06-05T13:15:36.380166Z"
    }
   },
   "outputs": [
    {
     "name": "stdout",
     "output_type": "stream",
     "text": [
      "========================= Point3D([1,2,4]) ========================\n",
      "Point3D is a numpy.ndarray in SI units: [1. 2. 4.].\n",
      "However, request each of the coordinates individually...\n",
      "\n",
      "X Coordinate: 1 meter\n",
      "Y Coordinate: 2 meter\n",
      "Z Coordinate: 4 meter\n",
      "\n",
      "================= Point3D([1,2,4], unit=UNITS.km) =================\n",
      "Point3D is a numpy.ndarray in SI units: [1000. 2000. 4000.].\n",
      "However, request each of the coordinates individually...\n",
      "\n",
      "X Coordinate: 1 kilometer\n",
      "Y Coordinate: 2 kilometer\n",
      "Z Coordinate: 4 kilometer\n",
      "\n",
      "=================== res = point_a + point_a_km ====================\n",
      "numpy.ndarray: [1001. 2002. 4004.]\n",
      "X Coordinate: 1001.0 meter\n",
      "Y Coordinate: 2002.0 meter\n",
      "Z Coordinate: 4004.0 meter\n"
     ]
    }
   ],
   "source": [
    "from ansys.geometry.core.math import Point3D\n",
    "\n",
    "point_a = Point3D([1,2,4])\n",
    "print(\"========================= Point3D([1,2,4]) ========================\")\n",
    "print(f\"Point3D is a numpy.ndarray in SI units: {point_a}.\")\n",
    "print(f\"However, request each of the coordinates individually...\\n\")\n",
    "print(f\"X Coordinate: {point_a.x}\")\n",
    "print(f\"Y Coordinate: {point_a.y}\")\n",
    "print(f\"Z Coordinate: {point_a.z}\\n\")\n",
    "\n",
    "# Now, store the information with different units...\n",
    "point_a_km = Point3D([1,2,4], unit=UNITS.km)\n",
    "print(\"================= Point3D([1,2,4], unit=UNITS.km) =================\")\n",
    "print(f\"Point3D is a numpy.ndarray in SI units: {point_a_km}.\")\n",
    "print(f\"However, request each of the coordinates individually...\\n\")\n",
    "print(f\"X Coordinate: {point_a_km.x}\")\n",
    "print(f\"Y Coordinate: {point_a_km.y}\")\n",
    "print(f\"Z Coordinate: {point_a_km.z}\\n\")\n",
    "\n",
    "# These points, although they are in different units, can be added together.\n",
    "res = point_a + point_a_km\n",
    "\n",
    "print(\"=================== res = point_a + point_a_km ====================\")\n",
    "print(f\"numpy.ndarray: {res}\")\n",
    "print(f\"X Coordinate: {res.x}\")\n",
    "print(f\"Y Coordinate: {res.y}\")\n",
    "print(f\"Z Coordinate: {res.z}\")"
   ]
  },
  {
   "cell_type": "markdown",
   "id": "a9d2cb77",
   "metadata": {},
   "source": [
    "## Use default units\n",
    "\n",
    "PyAnsys Geometry implements the concept of *default units*."
   ]
  },
  {
   "cell_type": "code",
   "execution_count": 4,
   "id": "1c7541fe",
   "metadata": {
    "execution": {
     "iopub.execute_input": "2025-06-05T13:15:36.382418Z",
     "iopub.status.busy": "2025-06-05T13:15:36.382129Z",
     "iopub.status.idle": "2025-06-05T13:15:36.385604Z",
     "shell.execute_reply": "2025-06-05T13:15:36.385062Z"
    }
   },
   "outputs": [
    {
     "name": "stdout",
     "output_type": "stream",
     "text": [
      "=== Default unit length ===\n",
      "meter\n",
      "=== Default unit angle ===\n",
      "radian\n"
     ]
    }
   ],
   "source": [
    "from ansys.geometry.core.misc import DEFAULT_UNITS\n",
    "\n",
    "print(\"=== Default unit length ===\")\n",
    "print(DEFAULT_UNITS.LENGTH)\n",
    "\n",
    "print(\"=== Default unit angle ===\")\n",
    "print(DEFAULT_UNITS.ANGLE)"
   ]
  },
  {
   "cell_type": "markdown",
   "id": "e904d542",
   "metadata": {},
   "source": [
    "It is important to differentiate between *client-side* default units\n",
    "and *server-side* default units. You are able to control both of them.\n",
    "\n",
    "Print the default server unit length."
   ]
  },
  {
   "cell_type": "code",
   "execution_count": 5,
   "id": "efcb2f26",
   "metadata": {
    "execution": {
     "iopub.execute_input": "2025-06-05T13:15:36.387144Z",
     "iopub.status.busy": "2025-06-05T13:15:36.386967Z",
     "iopub.status.idle": "2025-06-05T13:15:36.390114Z",
     "shell.execute_reply": "2025-06-05T13:15:36.389540Z"
    }
   },
   "outputs": [
    {
     "name": "stdout",
     "output_type": "stream",
     "text": [
      "=== Default server unit length ===\n",
      "meter\n"
     ]
    }
   ],
   "source": [
    "print(\"=== Default server unit length ===\")\n",
    "print(DEFAULT_UNITS.SERVER_LENGTH)"
   ]
  },
  {
   "cell_type": "markdown",
   "id": "bcdb0ed3",
   "metadata": {},
   "source": [
    "Use default units."
   ]
  },
  {
   "cell_type": "code",
   "execution_count": 6,
   "id": "9e06613f",
   "metadata": {
    "execution": {
     "iopub.execute_input": "2025-06-05T13:15:36.392165Z",
     "iopub.status.busy": "2025-06-05T13:15:36.391830Z",
     "iopub.status.idle": "2025-06-05T13:15:36.396095Z",
     "shell.execute_reply": "2025-06-05T13:15:36.395656Z"
    }
   },
   "outputs": [
    {
     "name": "stdout",
     "output_type": "stream",
     "text": [
      "This is a Point2D with default units\n",
      "X Coordinate: 3 millimeter\n",
      "Y Coordinate: 4 millimeter\n",
      "numpy.ndarray value: [0.003 0.004]\n"
     ]
    }
   ],
   "source": [
    "from ansys.geometry.core.math import Point2D\n",
    "from ansys.geometry.core.misc import DEFAULT_UNITS\n",
    "\n",
    "DEFAULT_UNITS.LENGTH = UNITS.mm\n",
    "\n",
    "point_2d_default_units = Point2D([3, 4])\n",
    "print(\"This is a Point2D with default units\")\n",
    "print(f\"X Coordinate: {point_2d_default_units.x}\")\n",
    "print(f\"Y Coordinate: {point_2d_default_units.y}\")\n",
    "print(f\"numpy.ndarray value: {point_2d_default_units}\")\n",
    "\n",
    "# Revert back to original default units\n",
    "DEFAULT_UNITS.LENGTH = UNITS.m"
   ]
  },
  {
   "cell_type": "markdown",
   "id": "eaca11b1",
   "metadata": {},
   "source": [
    "PyAnsys Geometry has certain auxiliary classes implemented that provide proper\n",
    "unit checking when assigning values. Although they are basically intended for\n",
    "internal use of the library, you can define them for use."
   ]
  },
  {
   "cell_type": "code",
   "execution_count": 7,
   "id": "6475fcbf",
   "metadata": {
    "execution": {
     "iopub.execute_input": "2025-06-05T13:15:36.397952Z",
     "iopub.status.busy": "2025-06-05T13:15:36.397490Z",
     "iopub.status.idle": "2025-06-05T13:15:36.400278Z",
     "shell.execute_reply": "2025-06-05T13:15:36.399735Z"
    }
   },
   "outputs": [],
   "source": [
    "from ansys.geometry.core.misc import Angle, Distance"
   ]
  },
  {
   "cell_type": "markdown",
   "id": "c8c4a295",
   "metadata": {},
   "source": [
    "Start with ``Distance``. The main difference between a ``Quantity`` object\n",
    "(that is, ``from pint import Quantity``) and a ``Distance`` is that there\n",
    "is an active check on the units passed (in case they are not the default ones).\n",
    "Here are some examples."
   ]
  },
  {
   "cell_type": "code",
   "execution_count": 8,
   "id": "8ed9b992",
   "metadata": {
    "execution": {
     "iopub.execute_input": "2025-06-05T13:15:36.402207Z",
     "iopub.status.busy": "2025-06-05T13:15:36.401865Z",
     "iopub.status.idle": "2025-06-05T13:15:36.405819Z",
     "shell.execute_reply": "2025-06-05T13:15:36.405323Z"
    }
   },
   "outputs": [
    {
     "name": "stdout",
     "output_type": "stream",
     "text": [
      "The radius is 4 meter.\n",
      "After reassignment, the radius is 0.07 meter.\n",
      "After changing its units, the radius is 7.000000000000001 centimeter.\n"
     ]
    }
   ],
   "source": [
    "radius = Distance(4)\n",
    "print(f\"The radius is {radius.value}.\")\n",
    "\n",
    "# Reassign the value of the distance\n",
    "radius.value = 7 * UNITS.cm\n",
    "print(f\"After reassignment, the radius is {radius.value}.\")\n",
    "\n",
    "\n",
    "# Change the units if desired\n",
    "radius.unit = UNITS.cm\n",
    "print(f\"After changing its units, the radius is {radius.value}.\")"
   ]
  },
  {
   "cell_type": "markdown",
   "id": "2bc357f5",
   "metadata": {},
   "source": [
    "The next two code examples show how unreasonable operations raise errors."
   ]
  },
  {
   "cell_type": "code",
   "execution_count": 9,
   "id": "ec9c19a1",
   "metadata": {
    "execution": {
     "iopub.execute_input": "2025-06-05T13:15:36.407490Z",
     "iopub.status.busy": "2025-06-05T13:15:36.407155Z",
     "iopub.status.idle": "2025-06-05T13:15:36.410627Z",
     "shell.execute_reply": "2025-06-05T13:15:36.410079Z"
    }
   },
   "outputs": [
    {
     "name": "stdout",
     "output_type": "stream",
     "text": [
      "Error raised: The pint.Unit provided as an input should be a [length] quantity.\n"
     ]
    }
   ],
   "source": [
    "try:\n",
    "    radius.value = 3 * UNITS.degrees\n",
    "except TypeError as err:\n",
    "    print(f\"Error raised: {err}\")"
   ]
  },
  {
   "cell_type": "code",
   "execution_count": 10,
   "id": "bda7cd2d",
   "metadata": {
    "execution": {
     "iopub.execute_input": "2025-06-05T13:15:36.412261Z",
     "iopub.status.busy": "2025-06-05T13:15:36.411937Z",
     "iopub.status.idle": "2025-06-05T13:15:36.415257Z",
     "shell.execute_reply": "2025-06-05T13:15:36.414720Z"
    }
   },
   "outputs": [
    {
     "name": "stdout",
     "output_type": "stream",
     "text": [
      "Error raised: The pint.Unit provided as an input should be a [length] quantity.\n"
     ]
    }
   ],
   "source": [
    "try:\n",
    "    radius.unit = UNITS.fahrenheit\n",
    "except TypeError as err:\n",
    "    print(f\"Error raised: {err}\")"
   ]
  },
  {
   "cell_type": "markdown",
   "id": "da6c4f25",
   "metadata": {},
   "source": [
    "The same behavior applies to the ``Angle`` object. Here are some examples."
   ]
  },
  {
   "cell_type": "code",
   "execution_count": 11,
   "id": "56efeaf4",
   "metadata": {
    "execution": {
     "iopub.execute_input": "2025-06-05T13:15:36.417191Z",
     "iopub.status.busy": "2025-06-05T13:15:36.416783Z",
     "iopub.status.idle": "2025-06-05T13:15:36.421268Z",
     "shell.execute_reply": "2025-06-05T13:15:36.420723Z"
    }
   },
   "outputs": [
    {
     "name": "stdout",
     "output_type": "stream",
     "text": [
      "The rotation angle is 1.5707963267948966 radian.\n",
      "After reassignment, the rotation angle is 0.12217304763960307 radian.\n",
      "After changing its units, the rotation angle is 7.0 degree.\n"
     ]
    }
   ],
   "source": [
    "import numpy as np\n",
    "\n",
    "rotation_angle = Angle(np.pi / 2)\n",
    "print(f\"The rotation angle is {rotation_angle.value}.\")\n",
    "\n",
    "# Try reassigning the value of the distance\n",
    "rotation_angle.value = 7 * UNITS.degrees\n",
    "print(f\"After reassignment, the rotation angle is {rotation_angle.value}.\")\n",
    "\n",
    "# You could also change its units if desired\n",
    "rotation_angle.unit = UNITS.degrees\n",
    "print(f\"After changing its units, the rotation angle is {rotation_angle.value}.\")"
   ]
  }
 ],
 "metadata": {
  "jupytext": {
   "default_lexer": "ipython3",
   "text_representation": {
    "extension": ".mystnb",
    "format_name": "myst",
    "format_version": 0.13,
    "jupytext_version": "1.14.1"
   }
  },
  "kernelspec": {
   "display_name": "Python 3 (ipykernel)",
   "language": "python",
   "name": "python3"
  },
  "language_info": {
   "codemirror_mode": {
    "name": "ipython",
    "version": 3
   },
   "file_extension": ".py",
   "mimetype": "text/x-python",
   "name": "python",
   "nbconvert_exporter": "python",
   "pygments_lexer": "ipython3",
   "version": "3.13.3"
  }
 },
 "nbformat": 4,
 "nbformat_minor": 5
}
